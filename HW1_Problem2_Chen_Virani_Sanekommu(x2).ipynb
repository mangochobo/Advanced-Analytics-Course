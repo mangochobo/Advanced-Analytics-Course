{
 "metadata": {
  "name": "HW1_2"
 },
 "nbformat": 3,
 "nbformat_minor": 0,
 "worksheets": [
  {
   "cells": [
    {
     "cell_type": "heading",
     "level": 1,
     "metadata": {},
     "source": "HW1 Problem 2"
    },
    {
     "cell_type": "heading",
     "level": 2,
     "metadata": {},
     "source": "Movies"
    },
    {
     "cell_type": "raw",
     "metadata": {},
     "source": "Functions for this app take in movies.csv from working directory and creates a list of movies and a dictionary of movie-actors. The program takes in two movie inputs from user and uses the created dictionary to output: \n\n1) All the actors who were in both movies\n2) All the actors in the first movie but not in the second movie\n3) All the actors in the seocnd movie but not in the first movie\n\nSample outputs are in In[8], In[9], In[10]\n\nnote: cd to my local folder for testing; this program assumes movies.csv is in your current working directory; comment out for grading"
    },
    {
     "cell_type": "code",
     "collapsed": false,
     "input": "%cd \"C:\\Users\\Stephen Chen\\Desktop\\Spring 2015 Material\\Advanced Analytics\\Homework\"\nmovies = []\ndict = {}",
     "language": "python",
     "metadata": {},
     "outputs": [
      {
       "output_type": "stream",
       "stream": "stdout",
       "text": "C:\\Users\\Stephen Chen\\Desktop\\Spring 2015 Material\\Advanced Analytics\\Homework\n"
      }
     ],
     "prompt_number": 1
    },
    {
     "cell_type": "code",
     "collapsed": false,
     "input": "def processLines(line):\n    \"\"\"Passes in a line and removes \\n from the end and takes out the actor \n    and returns the movies\"\"\"\n    return line.rstrip('\\n').upper().split(',')[1:len(line)]",
     "language": "python",
     "metadata": {},
     "outputs": [],
     "prompt_number": 2
    },
    {
     "cell_type": "code",
     "collapsed": false,
     "input": "def getMovies(line):\n    \"\"\"Takes in a line from the csv file, strips out the newline encoding\n    and adds movies to the movies list\"\"\"\n    movies.extend(line.rstrip('\\n').split(',')[1:len(line)])",
     "language": "python",
     "metadata": {},
     "outputs": [],
     "prompt_number": 3
    },
    {
     "cell_type": "code",
     "collapsed": false,
     "input": "def load_dict(fname= \"movies.csv\"):\n    \"\"\"Creates the dictionary of key-list pairs; keys being movie and values\n    as a list of actors in the movie\"\"\"\n    global movies  \n    with open(fname) as movies_data:\n        actorLines = movies_data.readlines()\n        \n        for line in actorLines:\n            getMovies(line)\n        movies = list(set(movies))\n        movies = [movie.upper() for movie in movies]\n\n        for movie in movies:\n            for line in actorLines:\n                if movie in processLines(line):\n                    if movie in dict:\n                        if line.split(',')[0] not in dict[movie]:\n                            dict[movie].append(line.split(',')[0])   \n                    else:\n                        dict[movie] = [line.split(',')[0]]",
     "language": "python",
     "metadata": {},
     "outputs": [],
     "prompt_number": 4
    },
    {
     "cell_type": "code",
     "collapsed": false,
     "input": "def checkInput(movie):\n    \"\"\"Tests user input. If the movie doesn't exist, throw an error\"\"\"\n    try:\n        dict[movie]\n    except:\n        return -1 \n    return 1",
     "language": "python",
     "metadata": {},
     "outputs": [],
     "prompt_number": 5
    },
    {
     "cell_type": "code",
     "collapsed": false,
     "input": "def checkSameActors(actors1, actors2):\n    \"\"\"Checks to see if the there are any similar actors in movie1 and movie2\"\"\"\n    return [actor for actor in actors1 if actor in actors2]",
     "language": "python",
     "metadata": {},
     "outputs": [],
     "prompt_number": 6
    },
    {
     "cell_type": "code",
     "collapsed": false,
     "input": "def movies_app():\n    global dict\n    load_dict()\n    valid1 = False\n    valid2 = False\n    \n    while valid1 == False:\n        movie1 = raw_input(\"Please enter a movie title: \").upper()\n        if checkInput(movie1) == 1:\n            valid1 = True\n        else:\n            print \"Please enter a different movie 1\"\n\n    while valid2 == False: \n        movie2 = raw_input(\"Please enter another movie title: \").upper()\n        if checkInput(movie2) == 1:\n            valid2 = True\n        else:    \n            print \"Please enter a different movie 2\"\n        \n    sameActors = str([actor for actor in checkSameActors(dict[movie1], dict[movie2])]).strip('[]').replace(\"'\",\"\")#formatting\n    \n    if not sameActors:\n        msg1 = \"1) No actors in common for these movies!\"\n    else:\n        msg1 = \"1) Actors in both movies: \"+sameActors\n        \n    if not [actor for actor in dict[movie1] if actor not in dict[movie2]]:     \n        msg2 = \"2) No actors in movie 1 that are not in movie 2\"\n    else:\n        msg2 = \"2) Actors in movie 1 (that are not in movie2): \"+str([actor for actor in dict[movie1] if actor not in dict[movie2]]).strip('[]').replace(\"'\",\"\")\n    \n    if not [actor for actor in dict[movie2] if actor not in dict[movie1]]: \n        msg3 = \"3) No actors in movie 2 that are not in movie 1\"\n    else:   \n        msg3 = \"3) Actors in movie 2 (that are not in movie1): \"+str([actor for actor in dict[movie2] if actor not in dict[movie1]]).strip('[]').replace(\"'\",\"\")\n\n    print msg1+'\\n', msg2+'\\n', msg3",
     "language": "python",
     "metadata": {},
     "outputs": [],
     "prompt_number": 7
    },
    {
     "cell_type": "code",
     "collapsed": false,
     "input": "#Sample Run: restart kernel, run all, call function movies_app()\n#input = sleepers, sleepers\nmovies_app()",
     "language": "python",
     "metadata": {},
     "outputs": [
      {
       "name": "stdout",
       "output_type": "stream",
       "stream": "stdout",
       "text": "Please enter a movie title: sleepers\n"
      },
      {
       "name": "stdout",
       "output_type": "stream",
       "stream": "stdout",
       "text": "Please enter another movie title: sleepers\n"
      },
      {
       "output_type": "stream",
       "stream": "stdout",
       "text": "1) Actors in both movies: Brad Pitt, Dustin Hoffman, Kevin Bacon\n2) No actors in movie 1 that are not in movie 2\n3) No actors in movie 2 that are not in movie 1\n"
      }
     ],
     "prompt_number": 11
    },
    {
     "cell_type": "raw",
     "metadata": {},
     "source": "        Expected Output:\n        Please enter a movie title: sleepers \n        Please enter another movie title: sleepers\n        1) Actors in both movies: Brad Pitt, Dustin Hoffman, Kevin Bacon\n        2) No actors in movie 1 that are not in movie 2\n        3) No actors in movie 2 that are not in movie 1"
    },
    {
     "cell_type": "code",
     "collapsed": false,
     "input": "#Sample Run\n#input = rambo, you have got mail\nmovies_app()",
     "language": "python",
     "metadata": {},
     "outputs": [
      {
       "name": "stdout",
       "output_type": "stream",
       "stream": "stdout",
       "text": "Please enter a movie title: rambo\n"
      },
      {
       "name": "stdout",
       "output_type": "stream",
       "stream": "stdout",
       "text": "Please enter another movie title: you have got mail\n"
      },
      {
       "output_type": "stream",
       "stream": "stdout",
       "text": "1) No actors in common for these movies!\n2) Actors in movie 1 (that are not in movie2): Sylvester Stallone\n3) Actors in movie 2 (that are not in movie1): Tom Hanks, Meg Ryan\n"
      }
     ],
     "prompt_number": 9
    },
    {
     "cell_type": "raw",
     "metadata": {},
     "source": "        Expected Output:\n        Please enter a movie title: rambo\n        Please enter another movie title: you have got mail\n        1) No actors in common for these movies!\n        2) Actors in movie 1 (that are not in movie2): Sylvester Stallone\n        3) Actors in movie 2 (that are not in movie1): Tom Hanks, Meg Ryan"
    },
    {
     "cell_type": "code",
     "collapsed": false,
     "input": "#Sample Run\n#input: bruce almighty, bone collector\nmovies_app()",
     "language": "python",
     "metadata": {},
     "outputs": [
      {
       "name": "stdout",
       "output_type": "stream",
       "stream": "stdout",
       "text": "Please enter a movie title: bruce almighty\n"
      },
      {
       "name": "stdout",
       "output_type": "stream",
       "stream": "stdout",
       "text": "Please enter another movie title: bone collector\n"
      },
      {
       "output_type": "stream",
       "stream": "stdout",
       "text": "1) Actors in both movies: Morgan Freeman\n2) Actors in movie 1 (that are not in movie2): Jim Carrey\n3) Actors in movie 2 (that are not in movie1): Angelina Jolie, Denzel Washington\n"
      }
     ],
     "prompt_number": 10
    },
    {
     "cell_type": "raw",
     "metadata": {},
     "source": "        Expected Output:\n        Please enter a movie title: bruce almighty\n        Please enter another movie title: bone collector\n        1) Actors in both movies: Morgan Freeman\n        2) Actors in movie 1 (that are not in movie2): Jim Carrey\n        3) Actors in movie 2 (that are not in movie1): Angelina Jolie, Denzel Washington"
    }
   ],
   "metadata": {}
  }
 ]
}
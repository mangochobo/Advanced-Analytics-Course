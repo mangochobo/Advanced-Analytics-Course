{
 "metadata": {
  "name": "HW1_1"
 },
 "nbformat": 3,
 "nbformat_minor": 0,
 "worksheets": [
  {
   "cells": [
    {
     "cell_type": "heading",
     "level": 1,
     "metadata": {},
     "source": "HW1 Problem 1"
    },
    {
     "cell_type": "heading",
     "level": 2,
     "metadata": {},
     "source": "Rock, Paper, Scissors Game"
    },
    {
     "cell_type": "raw",
     "metadata": {},
     "source": "Below is the rock-paper-scissors game. The functions defined in this program are:\n    computerTurn - takes user input of previous choices and plays the game accordingly\n    checkInput - validates user's input\n    assessRound - determines the outcome of the game\n    gameRound - calls the above functions\n\nA more detailed description is found in the docstring of each function\n    "
    },
    {
     "cell_type": "code",
     "collapsed": false,
     "input": "#create global variables and import random library\nimport random\nplayerChoices = []\nplayerScore = 0\ngamesPlayed = 0\ngameOver = False\ndict = {1:'Rock', 2:'Paper', 3:'Scissors'}",
     "language": "python",
     "metadata": {},
     "outputs": []
    },
    {
     "cell_type": "code",
     "collapsed": false,
     "input": "def computerTurn(playerChoices):\n    \"\"\"Computer starts out playing the game randomly until a choice becomes \n    a majority. At this point the computer will choose the appropriate choice to win\"\"\"\n    rock = 0\n    paper = 0\n    scissor = 0\n    total = 0\n    \n    if not playerChoices:\n        result = random.randint(1,3)\n        return result\n        \n    for item in playerChoices:\n        if item == 1:\n            rock += 1\n            total += 1\n        elif item == 2:\n            paper += 1\n            total += 1\n        elif item == 3:\n            scissor += 1\n            total += 1\n    \n    if rock/total >= .5 and total >3:\n        result = 2\n\n    elif paper/total >=.5 and total >3:\n        result = 3\n\n    elif scissor/total >=.5 and total >3:\n        result = 1\n                 \n    else: \n        result = random.randint(1,3)\n    return result\n",
     "language": "python",
     "metadata": {},
     "outputs": []
    },
    {
     "cell_type": "code",
     "collapsed": false,
     "input": "def checkInput(player):\n    \"\"\"Validates user input; returns -1 if not valid\"\"\"\n    try:\n        int(player)\n    except:\n        return -1\n    player = int(player)      \n    if player == 0 or player == 1 or player == 2 or player == 3:\n        return player\n    return -1     ",
     "language": "python",
     "metadata": {},
     "outputs": []
    },
    {
     "cell_type": "code",
     "collapsed": false,
     "input": "def assessRound(player, computer):\n    \"\"\"Decides whether the player/computer wins the round. Keeps count of the score and the player's choices\"\"\"\n    global dict\n    global playerChoices\n    global playerScore    \n    if player == computer:\n        playerChoices.append(1)\n        return str(\"Draw! You both picked \" + dict[player])\n            \n    if player == 1 and computer == 2:\n        playerChoices.append(1)\n        return str(\"You Lose! \" + dict[2] + \" beats \" + dict[1])\n            \n    if player == 1 and computer == 3:\n        playerChoices.append(1)\n        playerScore += 1\n        return str(\"You Win! \" + dict[1] + \" beats \" + dict[3])\n        \n    if player == 2 and computer == 1:\n        playerChoices.append(2)\n        playerScore += 1\n        return str(\"You Win! \" + dict[2] + \" beats \" + dict[1])\n        \n    if player == 2 and computer == 3:\n        playerChoices.append(2)\n        playerScore += 1\n        return str(\"You Lose! \" + dict[3] + \" beats \" + dict[2])\n        \n    if player == 3 and computer == 1:\n        playerChoices.append(3)\n        playerScore += 1\n        return str(\"You Lose! \" + dict[1] + \" beats \" + dict[3])\n        \n    if player == 3 and computer == 2:\n        playerChoices.append(3)\n        playerScore += 1\n        return str(\"You Win! \" + dict[3] + \" beats \" + dict[2])",
     "language": "python",
     "metadata": {},
     "outputs": []
    },
    {
     "cell_type": "code",
     "collapsed": false,
     "input": "def gameRound():\n    \"\"\"Calls the other functions in the program. Keeps track of the number of games played\"\"\"\n    global gameOver\n    global gamesPlayed    \n    player = raw_input(\"Please enter '1' for rock, '2' for paper, '3' for scissors, or '0' to quit the game: \")\n        \n    if checkInput(player) == -1:\n        return \"Please input an integer 0-3.\"\n    if checkInput(player) == 0:\n        gameOver = True\n        return \"Game Over\"\n        \n    player = int(player)    \n    computer = computerTurn(playerChoices)    \n    gamesPlayed +=1\n    return assessRound(player, computer)       \n        ",
     "language": "python",
     "metadata": {},
     "outputs": []
    },
    {
     "cell_type": "code",
     "collapsed": false,
     "input": "#sample run\nwhile gameOver == False:\n    print gameRound()\nprint \"You have played\", gamesPlayed, \"games and have won\", playerScore ",
     "language": "python",
     "metadata": {},
     "outputs": []
    },
    {
     "cell_type": "raw",
     "metadata": {},
     "source": "     Sample Run Results:\n        Please enter '1' for rock, '2' for paper, '3' for scissors, or '0' to quit the game: 1\n        You Win! Rock beats Scissors\n        Please enter '1' for rock, '2' for paper, '3' for scissors, or '0' to quit the game: 2\n        You Win! Paper beats Rock\n        Please enter '1' for rock, '2' for paper, '3' for scissors, or '0' to quit the game: 3\n        You Win! Scissors beats Paper\n        Please enter '1' for rock, '2' for paper, '3' for scissors, or '0' to quit the game: 4\n        Please input an integer 0-3.\n        Please enter '1' for rock, '2' for paper, '3' for scissors, or '0' to quit the game: 5\n        Please input an integer 0-3.\n        Please enter '1' for rock, '2' for paper, '3' for scissors, or '0' to quit the game: 1\n        Draw! You both picked Rock\n        Please enter '1' for rock, '2' for paper, '3' for scissors, or '0' to quit the game: 2\n        You Win! Paper beats Rock\n        Please enter '1' for rock, '2' for paper, '3' for scissors, or '0' to quit the game: 3\n        Draw! You both picked Scissors\n        Please enter '1' for rock, '2' for paper, '3' for scissors, or '0' to quit the game: 2\n        You Lose! Scissors beats Paper\n        Please enter '1' for rock, '2' for paper, '3' for scissors, or '0' to quit the game: 0\n        Game Over\n        You have played 7 games and have won 5"
    }
   ],
   "metadata": {}
  }
 ]
}
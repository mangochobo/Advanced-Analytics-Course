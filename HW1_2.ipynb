{
 "metadata": {
  "name": "HW1_2"
 },
 "nbformat": 3,
 "nbformat_minor": 0,
 "worksheets": [
  {
   "cells": [
    {
     "cell_type": "heading",
     "level": 1,
     "metadata": {},
     "source": "HW1 Problem 2"
    },
    {
     "cell_type": "heading",
     "level": 2,
     "metadata": {},
     "source": "Movies"
    },
    {
     "cell_type": "code",
     "collapsed": false,
     "input": "movies = []\ndict = {}",
     "language": "python",
     "metadata": {},
     "outputs": []
    },
    {
     "cell_type": "code",
     "collapsed": false,
     "input": "def processLines(line):\n    \"\"\"Passes in a line and removes \\n from the end and takes out the actors\"\"\"\n    return line.rstrip('\\n').split(',')[1:len(line)]",
     "language": "python",
     "metadata": {},
     "outputs": []
    },
    {
     "cell_type": "code",
     "collapsed": false,
     "input": "def getMovies(line):\n    \"\"\"Adds movies to the movies list\"\"\"\n    movies.extend(line.rstrip('\\n').split(',')[1:len(line)])",
     "language": "python",
     "metadata": {},
     "outputs": []
    },
    {
     "cell_type": "code",
     "collapsed": false,
     "input": "def load_dict(fname= \"movies.csv\"):\n    \"\"\"Creates a dictionary with keys as movies and values as a list of actors belonging to that movie\"\"\"\n    global movies  \n    with open(fname) as movies_data:\n        actorLines = movies_data.readlines()\n        \n        for line in actorLines:\n            getMovies(line)\n        movies = list(set(movies))\n        \n        for movie in movies:\n            for line in actorLines:\n                if movie in processLines(line):\n                    if movie in dict:\n                        dict[movie].append(line.split(',')[0])   \n                    else:\n                        dict[movie] = [line.split(',')[0]]",
     "language": "python",
     "metadata": {},
     "outputs": []
    },
    {
     "cell_type": "code",
     "collapsed": false,
     "input": "def checkInput(movie):\n    \"\"\"Tests user input. If the movie doesn't exist, should throw an error\"\"\"\n    try:\n        dict[movie]\n    except:\n        return -1 \n    return 1",
     "language": "python",
     "metadata": {},
     "outputs": []
    },
    {
     "cell_type": "code",
     "collapsed": false,
     "input": "def checkSameActors(actors1, actors2):\n    \"\"\"Checks to see if the there are any similar actors in movie1 and movie2\"\"\"\n    return [actor for actor in actors1 if actor in actors2]",
     "language": "python",
     "metadata": {},
     "outputs": []
    },
    {
     "cell_type": "code",
     "collapsed": false,
     "input": "def movies_app():\n    global dict\n    load_dict()\n    valid1 = False\n    valid2 = False\n    \n    while valid1 == False:\n        movie1 = raw_input(\"Please enter a movie title: \")\n        if checkInput(movie1) == 1:\n            valid1 = True\n        else:\n            print \"Please enter a different movie 1\"\n   \n    while valid2 == False: \n        movie2 = raw_input(\"Please enter another movie title: \")\n        if checkInput(movie2) == 1:\n            valid2 = True\n        else:    \n            print \"Please enter a different movie 2\"\n        \n    sameActors = checkSameActors(dict[movie1], dict[movie2])\n    if not sameActors:\n        msg1 = \"No actors in common for these movies!\"\n    else:\n        msg1 = \"Actors in both movies: \", sameActors\n        \n    if not [actor for actor in dict[movie1] if actor not in dict[movie2]]:     \n        msg2 = \"No actors in movie 1 that are not in movie 2\"\n    else:\n        msg2 = \"Actors in movie 1 (that are not in movie2): \", [actor for actor in dict[movie1] if actor not in dict[movie2]]\n    \n    if not [actor for actor in dict[movie2] if actor not in dict[movie1]]: \n        msg3 = \"No actors in movie 2 that are not in movie 1\"\n    else:   \n        msg3 = \"Actors in movie 2 (that are not in movie1): \", [actor for actor in dict[movie2] if actor not in dict[movie1]]\n    \n    dict = {}\n    return msg1, msg2, msg3",
     "language": "python",
     "metadata": {},
     "outputs": []
    }
   ],
   "metadata": {}
  }
 ]
}